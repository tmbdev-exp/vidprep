{
 "cells": [
  {
   "cell_type": "markdown",
   "metadata": {},
   "source": [
    "# Docker Container\n",
    "\n",
    "The `Dockerfile` builds the `tarp` command and also contains PyTorch for demonstrating how to read the files."
   ]
  },
  {
   "cell_type": "code",
   "execution_count": 1,
   "metadata": {},
   "outputs": [
    {
     "name": "stdout",
     "output_type": "stream",
     "text": [
      " ---> Using cache\n",
      " ---> f952bff42081\n",
      "Step 28/29 : RUN pip3 install git+git://github.com/tmbdev/webdataset\n",
      " ---> Using cache\n",
      " ---> 1cb776374cc6\n",
      "Step 29/29 : RUN apt-get install -qqy curl\n",
      " ---> Using cache\n",
      " ---> a7279aab6bea\n",
      "Successfully built a7279aab6bea\n",
      "Successfully tagged vidprep:latest\n"
     ]
    }
   ],
   "source": [
    "docker build -t vidprep - < Dockerfile > build.log 2>&1; tail build.log"
   ]
  },
  {
   "cell_type": "markdown",
   "metadata": {},
   "source": [
    "# Download Test Data\n",
    "\n",
    "Download part of a shard, using `tarp cat` to get only the first three records. (The error message is harmless.)"
   ]
  },
  {
   "cell_type": "code",
   "execution_count": 2,
   "metadata": {},
   "outputs": [
    {
     "name": "stdout",
     "output_type": "stream",
     "text": [
      "# writing testshard.tar\n",
      "  % Total    % Received % Xferd  Average Speed   Time    Time     Time  Current\n",
      "                                 Dload  Upload   Total   Spent    Left  Speed\n",
      "  0     0    0     0    0     0      0      0 --:--:-- --:--:-- --:--:--     0# source -\n",
      "  0 54.9G    0  174M    0     0  25.9M      0  0:36:06  0:00:06  0:36:00 26.7M\n",
      "curl: (23) Failed writing body (563 != 1418)\n"
     ]
    }
   ],
   "source": [
    "./run bash -c '\n",
    "    curl http://storage.googleapis.com/lpr-yt8m-lo-sharded/yt8m-lo-002999.tar | \n",
    "        tarp cat - -o testshard.tar --end=3\n",
    "'"
   ]
  },
  {
   "cell_type": "markdown",
   "metadata": {},
   "source": [
    "# Splitting the Video Files\n",
    "\n",
    "We're using `ffmpeg` to split each `.mp4` into multiple segments. We also extract metadata about the original video.\n",
    "\n",
    "This script will be invoked by `tarp proc`, so we know that all the input info has filenames of the form `sample.*`.\n",
    "\n",
    "We return multiple outputs in the form `sample-000000.mp4` etc.; `tarp proc -m` picks these up and turns them into new samples."
   ]
  },
  {
   "cell_type": "code",
   "execution_count": 3,
   "metadata": {},
   "outputs": [
    {
     "name": "stdout",
     "output_type": "stream",
     "text": [
      "#!/bin/bash\n",
      "set -e\n",
      "ls -l sample.mp4\n",
      "\n",
      "# get mp4 metadata (total length, etc.)\n",
      "ffprobe sample.mp4 -v quiet -print_format json -show_format -show_streams > sample.mp4.json\n",
      "\n",
      "# perform the rescaling and splitting\n",
      "ffmpeg -loglevel error -stats -i sample.mp4 \\\n",
      "    -vf \"scale=512:256:force_original_aspect_ratio=decrease,pad=512:256:(ow-iw)/2:(oh-ih)/2\" \\\n",
      "    -c:a copy -f segment -segment_time 31 -reset_timestamps 1  \\\n",
      "    -segment_format_options movflags=+faststart \\\n",
      "    sample-%06d.mp4\n",
      "\n",
      "# copy the metadata into each video fragment\n",
      "for s in sample-??????.mp4; do\n",
      "    b=$(basename $s .mp4)\n",
      "    cp sample.mp4.json $b.mp4.json\n",
      "    cp sample.info.json $b.info.json\n",
      "done\n"
     ]
    }
   ],
   "source": [
    "cat extract-segments"
   ]
  },
  {
   "cell_type": "markdown",
   "metadata": {},
   "source": [
    "# Run the Script over All Samples"
   ]
  },
  {
   "cell_type": "code",
   "execution_count": 4,
   "metadata": {},
   "outputs": [
    {
     "name": "stdout",
     "output_type": "stream",
     "text": [
      "# writing testoutput.tar\n",
      "# source testshard.tar\n",
      "-rw-r--r-- 1 tmb tmb 40635944 Apr 16 17:25 sample.mp4\n",
      "frame= 5603 fps=737 q=-1.0 Lsize=N/A time=00:03:07.19 bitrate=N/A dup=0 drop=1 speed=24.6x    \n",
      "-rw-r--r-- 1 tmb tmb 18818304 Apr 16 17:25 sample.mp4\n",
      "frame= 4000 fps=818 q=-1.0 Lsize=N/A time=00:02:13.44 bitrate=N/A speed=27.3x    \n",
      "-rw-r--r-- 1 tmb tmb 59482703 Apr 16 17:25 sample.mp4\n",
      "frame= 7291 fps=594 q=-1.0 Lsize=N/A time=00:04:03.27 bitrate=N/A speed=19.8x    \n"
     ]
    }
   ],
   "source": [
    "./run tarp proc  -m $(pwd)/extract-segments testshard.tar -o testoutput.tar"
   ]
  },
  {
   "cell_type": "markdown",
   "metadata": {},
   "source": [
    "# Checking the Output"
   ]
  },
  {
   "cell_type": "code",
   "execution_count": 5,
   "metadata": {},
   "outputs": [
    {
     "name": "stdout",
     "output_type": "stream",
     "text": [
      "-rwxr-xr-x bigdata/bigdata 31317 2020-04-16 10:25 ---2pGwkL7M/000000.info.json\n",
      "-rwxr-xr-x bigdata/bigdata 1404421 2020-04-16 10:25 ---2pGwkL7M/000000.mp4\n",
      "-rwxr-xr-x bigdata/bigdata    3985 2020-04-16 10:25 ---2pGwkL7M/000000.mp4.json\n",
      "-rwxr-xr-x bigdata/bigdata   31317 2020-04-16 10:25 ---2pGwkL7M/000001.info.json\n",
      "-rwxr-xr-x bigdata/bigdata 1370750 2020-04-16 10:25 ---2pGwkL7M/000001.mp4\n",
      "-rwxr-xr-x bigdata/bigdata    3985 2020-04-16 10:25 ---2pGwkL7M/000001.mp4.json\n",
      "-rwxr-xr-x bigdata/bigdata   31317 2020-04-16 10:25 ---2pGwkL7M/000002.info.json\n",
      "-rwxr-xr-x bigdata/bigdata 1419187 2020-04-16 10:25 ---2pGwkL7M/000002.mp4\n",
      "-rwxr-xr-x bigdata/bigdata    3985 2020-04-16 10:25 ---2pGwkL7M/000002.mp4.json\n",
      "-rwxr-xr-x bigdata/bigdata   31317 2020-04-16 10:25 ---2pGwkL7M/000003.info.json\n",
      "tar: write error\n"
     ]
    }
   ],
   "source": [
    "tar tvf testoutput.tar | sed 10q"
   ]
  },
  {
   "cell_type": "code",
   "execution_count": 6,
   "metadata": {},
   "outputs": [
    {
     "name": "stdout",
     "output_type": "stream",
     "text": [
      "  Duration: 00:00:33.43, start: 0.065982, bitrate: 336 kb/s\n",
      "  Duration: 00:00:33.44, start: 0.000000, bitrate: 327 kb/s\n",
      "  Duration: 00:00:33.43, start: 0.000000, bitrate: 339 kb/s\n",
      "  Duration: 00:00:25.08, start: 0.000000, bitrate: 317 kb/s\n",
      "  Duration: 00:00:33.43, start: 0.000000, bitrate: 322 kb/s\n",
      "  Duration: 00:00:28.52, start: 0.000000, bitrate: 325 kb/s\n",
      "  Duration: 00:00:33.37, start: 0.066000, bitrate: 269 kb/s\n",
      "  Duration: 00:00:33.37, start: 0.000000, bitrate: 309 kb/s\n",
      "  Duration: 00:00:32.63, start: 0.000000, bitrate: 326 kb/s\n",
      "  Duration: 00:00:27.43, start: 0.000000, bitrate: 363 kb/s\n"
     ]
    }
   ],
   "source": [
    "./run tarp proc -c 'ffprobe sample.mp4' --end=10 testoutput.tar -o /dev/null | grep Duration:"
   ]
  },
  {
   "cell_type": "markdown",
   "metadata": {},
   "source": [
    "# Reading the Output with PyTorch"
   ]
  },
  {
   "cell_type": "code",
   "execution_count": 7,
   "metadata": {},
   "outputs": [
    {
     "name": "stdout",
     "output_type": "stream",
     "text": [
      "import torch\n",
      "import torchvision\n",
      "import webdataset as wds\n",
      "from itertools import islice\n",
      "import tempfile\n",
      "\n",
      "url = \"testoutput.tar\"\n",
      "\n",
      "def mp4decode(data):\n",
      "    with tempfile.TemporaryDirectory() as dname:\n",
      "        with open(dname+\"/sample.mp4\", \"wb\") as stream:\n",
      "            stream.write(data)\n",
      "        vframes, aframes, info = torchvision.io.read_video(dname+\"/sample.mp4\")\n",
      "    return vframes, aframes, info\n",
      "\n",
      "dataset = (\n",
      "    wds.Dataset(url)\n",
      "    .decode()\n",
      "    .map_dict(mp4=mp4decode)\n",
      ")\n",
      "\n",
      "for sample in islice(dataset, 0, 3):\n",
      "    print(\"---\")\n",
      "    print(list(sample.keys()))\n",
      "    vframes, aframes, info = sample[\"mp4\"]\n",
      "    print(vframes.shape, aframes.shape)\n",
      "    print(info)\n"
     ]
    }
   ],
   "source": [
    "cat vidreader.py"
   ]
  },
  {
   "cell_type": "code",
   "execution_count": 8,
   "metadata": {},
   "outputs": [
    {
     "name": "stdout",
     "output_type": "stream",
     "text": [
      "/usr/local/lib/python3.8/dist-packages/torchvision/io/video.py:106: UserWarning: The pts_unit 'pts' gives wrong results and will be removed in a follow-up version. Please use pts_unit 'sec'.\n",
      "  warnings.warn(\"The pts_unit 'pts' gives wrong results and will be removed in a \" +\n",
      "---\n",
      "['__key__', 'info.json', 'mp4', 'mp4.json']\n",
      "torch.Size([1000, 256, 512, 3]) torch.Size([2, 1471488])\n",
      "{'video_fps': 29.916666666666668, 'audio_fps': 44100}\n",
      "---\n",
      "['__key__', 'info.json', 'mp4', 'mp4.json']\n",
      "torch.Size([1000, 256, 512, 3]) torch.Size([2, 1469906])\n",
      "{'video_fps': 29.916666666666668, 'audio_fps': 44100}\n",
      "---\n",
      "['__key__', 'info.json', 'mp4', 'mp4.json']\n",
      "torch.Size([1000, 256, 512, 3]) torch.Size([2, 1470371])\n",
      "{'video_fps': 29.916666666666668, 'audio_fps': 44100}\n"
     ]
    }
   ],
   "source": [
    "./run python3 vidreader.py"
   ]
  },
  {
   "cell_type": "code",
   "execution_count": null,
   "metadata": {},
   "outputs": [],
   "source": []
  }
 ],
 "metadata": {
  "kernelspec": {
   "display_name": "Bash",
   "language": "bash",
   "name": "bash"
  },
  "language_info": {
   "codemirror_mode": "shell",
   "file_extension": ".sh",
   "mimetype": "text/x-sh",
   "name": "bash"
  }
 },
 "nbformat": 4,
 "nbformat_minor": 4
}
